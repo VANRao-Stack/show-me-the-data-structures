{
 "cells": [
  {
   "cell_type": "code",
   "execution_count": 13,
   "metadata": {},
   "outputs": [],
   "source": [
    "class Node:\n",
    "    def __init__(self, value):\n",
    "        self.value = value\n",
    "        self.next = None\n",
    "\n",
    "    def __repr__(self):\n",
    "        return str(self.value)\n",
    "\n",
    "\n",
    "class LinkedList:\n",
    "    def __init__(self):\n",
    "        self.head = None\n",
    "\n",
    "    def __str__(self):\n",
    "        cur_head = self.head\n",
    "        out_string = \"\"\n",
    "        while cur_head:\n",
    "            out_string += str(cur_head.value) + \" -> \"\n",
    "            cur_head = cur_head.next\n",
    "        return out_string[:-3]\n",
    "\n",
    "\n",
    "    def append(self, value):\n",
    "\n",
    "        if self.head is None:\n",
    "            self.head = Node(value)\n",
    "            return\n",
    "\n",
    "        node = self.head\n",
    "        while node.next:\n",
    "            node = node.next\n",
    "\n",
    "        node.next = Node(value)\n",
    "\n",
    "    def size(self):\n",
    "        size = 0\n",
    "        node = self.head\n",
    "        while node:\n",
    "            size += 1\n",
    "            node = node.next\n",
    "\n",
    "        return size\n"
   ]
  },
  {
   "cell_type": "code",
   "execution_count": 14,
   "metadata": {},
   "outputs": [],
   "source": [
    "def union(llist_1, llist_2):\n",
    "    list1 = list()\n",
    "    current_node = llist_1.head\n",
    "    while current_node:\n",
    "        list1.append(current_node.value)\n",
    "        current_node = current_node.next\n",
    "    list2 = list()\n",
    "    current_node = llist_2.head\n",
    "    while current_node:\n",
    "        list2.append(current_node.value)\n",
    "        current_node = current_node.next\n",
    "    final_list = list1 + list2\n",
    "    final_llist = LinkedList()\n",
    "    for i in final_list:\n",
    "        final_llist.append(i)\n",
    "    return final_llist\n",
    "\n",
    "def intersection(llist_1, llist_2):\n",
    "    list1 = list()\n",
    "    current_node = llist_1.head\n",
    "    while current_node:\n",
    "        list1.append(current_node.value)\n",
    "        current_node = current_node.next\n",
    "    list2 = list()\n",
    "    current_node = llist_2.head\n",
    "    while current_node:\n",
    "        list2.append(current_node.value)\n",
    "        current_node = current_node.next\n",
    "    final_list = list()\n",
    "    for i in list1:\n",
    "        if i in list2:\n",
    "            final_list.append(i)\n",
    "            list2.remove(i)\n",
    "    final_llist = LinkedList()\n",
    "    for i in final_list:\n",
    "        final_llist.append(i)\n",
    "    return final_llist"
   ]
  },
  {
   "cell_type": "code",
   "execution_count": 15,
   "metadata": {},
   "outputs": [
    {
     "name": "stdout",
     "output_type": "stream",
     "text": [
      "3 -> 2 -> 4 -> 35 -> 6 -> 65 -> 6 -> 4 -> 3 -> 21 -> 6 -> 32 -> 4 -> 9 -> 6 -> 1 -> 11 -> 21 -> 1 \n",
      "4 -> 6 -> 6 -> 21 \n"
     ]
    }
   ],
   "source": [
    "linked_list_1 = LinkedList()\n",
    "linked_list_2 = LinkedList()\n",
    "\n",
    "element_1 = [3,2,4,35,6,65,6,4,3,21]\n",
    "element_2 = [6,32,4,9,6,1,11,21,1]\n",
    "\n",
    "for i in element_1:\n",
    "    linked_list_1.append(i)\n",
    "\n",
    "for i in element_2:\n",
    "    linked_list_2.append(i)\n",
    "\n",
    "print (union(linked_list_1,linked_list_2))\n",
    "print (intersection(linked_list_1,linked_list_2))"
   ]
  },
  {
   "cell_type": "code",
   "execution_count": 16,
   "metadata": {},
   "outputs": [
    {
     "name": "stdout",
     "output_type": "stream",
     "text": [
      "3 -> 2 -> 4 -> 35 -> 6 -> 65 -> 6 -> 4 -> 3 -> 23 -> 1 -> 7 -> 8 -> 9 -> 11 -> 21 -> 1 \n",
      "\n"
     ]
    }
   ],
   "source": [
    "linked_list_3 = LinkedList()\n",
    "linked_list_4 = LinkedList()\n",
    "\n",
    "element_1 = [3,2,4,35,6,65,6,4,3,23]\n",
    "element_2 = [1,7,8,9,11,21,1]\n",
    "\n",
    "for i in element_1:\n",
    "    linked_list_3.append(i)\n",
    "\n",
    "for i in element_2:\n",
    "    linked_list_4.append(i)\n",
    "\n",
    "print (union(linked_list_3,linked_list_4))\n",
    "print (intersection(linked_list_3,linked_list_4))"
   ]
  },
  {
   "cell_type": "code",
   "execution_count": null,
   "metadata": {},
   "outputs": [],
   "source": []
  }
 ],
 "metadata": {
  "kernelspec": {
   "display_name": "Python 3",
   "language": "python",
   "name": "python3"
  },
  "language_info": {
   "codemirror_mode": {
    "name": "ipython",
    "version": 3
   },
   "file_extension": ".py",
   "mimetype": "text/x-python",
   "name": "python",
   "nbconvert_exporter": "python",
   "pygments_lexer": "ipython3",
   "version": "3.7.3"
  }
 },
 "nbformat": 4,
 "nbformat_minor": 2
}
