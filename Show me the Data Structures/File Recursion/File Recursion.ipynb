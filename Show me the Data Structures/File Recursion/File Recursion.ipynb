{
 "cells": [
  {
   "cell_type": "code",
   "execution_count": 5,
   "metadata": {},
   "outputs": [],
   "source": [
    "import os\n",
    "\n",
    "class Node():\n",
    "    def __init__(self, data):\n",
    "        self.data = data\n",
    "        self.next = None\n",
    "\n",
    "class Stack(object):\n",
    "    def __init__(self):\n",
    "        self.num_elements = 0\n",
    "        self.head = None\n",
    "    def push(self, data):\n",
    "        new_node = Node(data)\n",
    "        if self.num_elements == 0:\n",
    "            self.head = new_node\n",
    "        else:\n",
    "            new_node.next = self.head\n",
    "            self.head = new_node\n",
    "        self.num_elements += 1\n",
    "    def pop(self):\n",
    "        if self.num_elements == 0:\n",
    "            return None\n",
    "        value = self.head.data\n",
    "        self.head = self.head.next\n",
    "        self.num_elements -= 1\n",
    "        return value\n",
    "    def is_empty(self):\n",
    "        return self.num_elements == 0\n",
    "    def print_stack(self):\n",
    "        current_node = self.head\n",
    "        while current_node:\n",
    "            print(current_node.data)\n",
    "            current_node = current_node.next\n",
    "\n",
    "def find_files(suffix, path, output = []):\n",
    "    stack = Stack()\n",
    "    all_files = os.listdir(path)\n",
    "    for i in all_files:\n",
    "        if i.endswith(suffix):\n",
    "            output.append(os.path.join(path, i))\n",
    "        elif os.path.isdir(os.path.join(path, i)):\n",
    "            stack.push(os.path.join(path, i))\n",
    "    stack.print_stack()\n",
    "    while not(stack.is_empty()):\n",
    "        new_path = stack.pop()\n",
    "        output = find_files(suffix, new_path, output)\n",
    "    return output"
   ]
  },
  {
   "cell_type": "code",
   "execution_count": null,
   "metadata": {},
   "outputs": [],
   "source": []
  }
 ],
 "metadata": {
  "kernelspec": {
   "display_name": "Python 3",
   "language": "python",
   "name": "python3"
  },
  "language_info": {
   "codemirror_mode": {
    "name": "ipython",
    "version": 3
   },
   "file_extension": ".py",
   "mimetype": "text/x-python",
   "name": "python",
   "nbconvert_exporter": "python",
   "pygments_lexer": "ipython3",
   "version": "3.7.3"
  }
 },
 "nbformat": 4,
 "nbformat_minor": 2
}
