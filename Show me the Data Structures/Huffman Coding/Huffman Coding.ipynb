{
 "cells": [
  {
   "cell_type": "code",
   "execution_count": 1,
   "metadata": {},
   "outputs": [],
   "source": [
    "class Node:\n",
    "    def __init__(self, priority, data = None):\n",
    "        self.data = data\n",
    "        self.priority = priority\n",
    "        self.next = None\n",
    "        self.prev = None\n",
    "        self.right = None\n",
    "        self.left = None"
   ]
  },
  {
   "cell_type": "code",
   "execution_count": 2,
   "metadata": {},
   "outputs": [],
   "source": [
    "class priorityQueue(object):\n",
    "    def __init__(self):\n",
    "        self.num_elements = 0\n",
    "        self.head = None\n",
    "        self.tail = None\n",
    "    def push(self, new_node):\n",
    "        if self.num_elements == 0:\n",
    "            self.head = new_node\n",
    "            self.tail = new_node\n",
    "        else:\n",
    "            current_node = self.head\n",
    "            while current_node.priority > new_node.priority or not(current_node):\n",
    "                current_node = current_node.next\n",
    "            if not(current_node):\n",
    "                self.tail.next = new_node\n",
    "                new_node.prev = self.tail\n",
    "                self.tail = new_node\n",
    "            else:\n",
    "                new_node.prev = current_node.prev \n",
    "                new_node.next = current_node\n",
    "                current_node.prev.next = new_node\n",
    "                current_node.prev = new_node\n",
    "        self.num_elements += 1\n",
    "    def pop(self):\n",
    "        if self.num_elements == 0:\n",
    "            return None\n",
    "        value = self.tail.data\n",
    "        priority = self.tail.priority\n",
    "        self.tail.prev.next = None\n",
    "        self.tail = self.tail.prev\n",
    "        return value, priority\n",
    "    def number_of_elements(self):\n",
    "        return self.num_elements"
   ]
  },
  {
   "cell_type": "code",
   "execution_count": 6,
   "metadata": {},
   "outputs": [],
   "source": [
    "def huffman_encoding(queue):\n",
    "    while queue.number_of_elements() != 1:\n",
    "        value1, priority1 = queue.pop()\n",
    "        value2, priority2 = queue.pop()\n",
    "        new_node = Node(priority1 + priority2)\n",
    "        new_node1 = Node(value1, priority1)\n",
    "        new_node2 = Node(value2, priority2)\n",
    "        if priority1 <= priority2:\n",
    "            new_node.left = new_node1\n",
    "            new_node.right = new_node2\n",
    "        else:\n",
    "            new_node.left = new_node2\n",
    "            new_node.right = new_node1\n",
    "        queue.push(new_node)\n",
    "    final_node = queue.pop()\n",
    "    my_dict = encode(final_node)\n",
    "    return my_dict\n",
    "    \n",
    "def encoding(current_node, string = '', output = {}):\n",
    "    if current_node.data == None:\n",
    "        output.update(encoding(current_node.left, string + '0', output))\n",
    "        output.update(encoding(current_node.right, string + '1', output))\n",
    "    else:\n",
    "        output[current_node.data] = string\n",
    "        return output\n",
    "    return output"
   ]
  },
  {
   "cell_type": "code",
   "execution_count": 8,
   "metadata": {},
   "outputs": [],
   "source": [
    "def output_encoding(data):\n",
    "    new_dict = dict()\n",
    "    for i in data:\n",
    "        if i in new_dict:\n",
    "            new_dict[i] += 1\n",
    "        else:\n",
    "            new_dict[i] = 1\n",
    "    encoding_queue = priorityQueue()\n",
    "    for i in new_dict:\n",
    "        new_node = Node(new_dict[i], i)\n",
    "        encoding_queue.push(new_node)\n",
    "    code_convo = huffman_encoding(encoding_queue)\n",
    "    output = ''\n",
    "    for i in data:\n",
    "        output += code_convo[i]\n",
    "    return output, code_convo"
   ]
  },
  {
   "cell_type": "code",
   "execution_count": 9,
   "metadata": {},
   "outputs": [],
   "source": [
    "def output_decoding(data, code_convo):\n",
    "    output = ''\n",
    "    temp_output = ''\n",
    "    for i in data:\n",
    "        temp_output += i\n",
    "        if temp_output in code_convo:\n",
    "            output += code_convo[temp_output]\n",
    "            temp_output = ''\n",
    "    return output"
   ]
  },
  {
   "cell_type": "code",
   "execution_count": null,
   "metadata": {},
   "outputs": [],
   "source": []
  }
 ],
 "metadata": {
  "kernelspec": {
   "display_name": "Python 3",
   "language": "python",
   "name": "python3"
  },
  "language_info": {
   "codemirror_mode": {
    "name": "ipython",
    "version": 3
   },
   "file_extension": ".py",
   "mimetype": "text/x-python",
   "name": "python",
   "nbconvert_exporter": "python",
   "pygments_lexer": "ipython3",
   "version": "3.7.3"
  }
 },
 "nbformat": 4,
 "nbformat_minor": 2
}
