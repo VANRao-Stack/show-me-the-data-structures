{
 "cells": [
  {
   "cell_type": "code",
   "execution_count": null,
   "metadata": {},
   "outputs": [],
   "source": [
    "import hashlib\n",
    "\n",
    "class Block:\n",
    "\n",
    "    def __init__(self, timestamp, data, previous_hash = None):\n",
    "      self.timestamp = timestamp\n",
    "      self.data = data\n",
    "      self.previous_hash = previous_hash\n",
    "      self.hash = self.calc_hash()\n",
    "    \n",
    "    def calc_hash(self):\n",
    "      sha = hashlib.sha256()\n",
    "      hash_str = self.data.encode('utf-8')\n",
    "      sha.update(hash_str)\n",
    "      return sha.hexdigest()\n",
    "    \n",
    "class Node:\n",
    "    \n",
    "    def __init__(self, data):\n",
    "        self.data = data\n",
    "        self.next = None\n",
    "        \n",
    "class BlockChain:\n",
    "    \n",
    "    def __init__(self):\n",
    "        self.num_elements = 0\n",
    "        self.head = None\n",
    "        self.prev_hash = None\n",
    "    \n",
    "    def add(self, data):\n",
    "        if self.num_elements == 0:\n",
    "            newBlock = Block(time.gmtime(), data)\n",
    "            self.prev_hash = newBlock.hash\n",
    "            new_node = Node(newBlock)\n",
    "            self.head = new_node\n",
    "        else:\n",
    "            newBlock = Block(time.gmtime(), data, self.prev_hash)\n",
    "            self.prev_hash = newBlock.hash\n",
    "            new_node = Node(newBlock)\n",
    "            new_node.next = self.head\n",
    "            self.head = new_node\n",
    "        self.num_elements += 1"
   ]
  }
 ],
 "metadata": {
  "kernelspec": {
   "display_name": "Python 3",
   "language": "python",
   "name": "python3"
  },
  "language_info": {
   "codemirror_mode": {
    "name": "ipython",
    "version": 3
   },
   "file_extension": ".py",
   "mimetype": "text/x-python",
   "name": "python",
   "nbconvert_exporter": "python",
   "pygments_lexer": "ipython3",
   "version": "3.7.3"
  }
 },
 "nbformat": 4,
 "nbformat_minor": 2
}
